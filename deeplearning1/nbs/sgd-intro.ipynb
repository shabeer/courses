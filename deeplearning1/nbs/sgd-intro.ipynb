{
 "cells": [
  {
   "cell_type": "markdown",
   "metadata": {
    "toc": "true"
   },
   "source": [
    "# Table of Contents\n",
    " <p>"
   ]
  },
  {
   "cell_type": "code",
   "execution_count": 1,
   "metadata": {
    "collapsed": true
   },
   "outputs": [],
   "source": [
    "%matplotlib inline\n",
    "import math,sys,os,numpy as np\n",
    "from numpy.random import random\n",
    "from matplotlib import pyplot as plt, rcParams, animation, rc\n",
    "from __future__ import print_function, division\n",
    "from ipywidgets import interact, interactive, fixed\n",
    "from ipywidgets.widgets import *\n",
    "rc('animation', html='html5')\n",
    "rcParams['figure.figsize'] = 3, 3\n",
    "%precision 4\n",
    "np.set_printoptions(precision=4, linewidth=100)"
   ]
  },
  {
   "cell_type": "code",
   "execution_count": 2,
   "metadata": {
    "collapsed": true
   },
   "outputs": [],
   "source": [
    "def lin(a,b,x): return a*x+b"
   ]
  },
  {
   "cell_type": "code",
   "execution_count": 3,
   "metadata": {
    "collapsed": true
   },
   "outputs": [],
   "source": [
    "a=3.\n",
    "b=8."
   ]
  },
  {
   "cell_type": "code",
   "execution_count": 4,
   "metadata": {
    "collapsed": true
   },
   "outputs": [],
   "source": [
    "n=30\n",
    "x = random(n)\n",
    "y = lin(a,b,x)"
   ]
  },
  {
   "cell_type": "code",
   "execution_count": 5,
   "metadata": {},
   "outputs": [
    {
     "data": {
      "text/plain": [
       "array([ 0.5017,  0.2685,  0.6622,  0.6944,  0.8299,  0.9941,  0.7512,  0.3263,  0.6134,  0.3507,\n",
       "        0.7827,  0.9831,  0.0051,  0.0186,  0.6587,  0.8931,  0.3819,  0.4651,  0.1404,  0.9428,\n",
       "        0.7787,  0.1233,  0.4007,  0.6458,  0.0444,  0.9336,  0.4054,  0.9604,  0.3049,  0.7666])"
      ]
     },
     "execution_count": 5,
     "metadata": {},
     "output_type": "execute_result"
    }
   ],
   "source": [
    "x"
   ]
  },
  {
   "cell_type": "code",
   "execution_count": 6,
   "metadata": {},
   "outputs": [
    {
     "data": {
      "text/plain": [
       "array([  9.5051,   8.8056,   9.9866,  10.0833,  10.4896,  10.9823,  10.2536,   8.979 ,   9.8402,\n",
       "         9.052 ,  10.3482,  10.9492,   8.0153,   8.0557,   9.9761,  10.6793,   9.1458,   9.3953,\n",
       "         8.4212,  10.8285,  10.3361,   8.3699,   9.202 ,   9.9375,   8.1331,  10.8008,   9.2163,\n",
       "        10.8811,   8.9148,  10.2997])"
      ]
     },
     "execution_count": 6,
     "metadata": {},
     "output_type": "execute_result"
    }
   ],
   "source": [
    "y"
   ]
  },
  {
   "cell_type": "code",
   "execution_count": 7,
   "metadata": {},
   "outputs": [
    {
     "data": {
      "text/plain": [
       "<matplotlib.collections.PathCollection at 0x7f981ff35090>"
      ]
     },
     "execution_count": 7,
     "metadata": {},
     "output_type": "execute_result"
    },
    {
     "data": {
      "image/png": "[encoded data removed]",
      "text/plain": [
       "<matplotlib.figure.Figure at 0x7f984e30a6d0>"
      ]
     },
     "metadata": {},
     "output_type": "display_data"
    }
   ],
   "source": [
    "plt.scatter(x,y)"
   ]
  },
  {
   "cell_type": "code",
   "execution_count": 8,
   "metadata": {
    "collapsed": true
   },
   "outputs": [],
   "source": [
    "def sse(y,y_pred): return ((y-y_pred)**2).sum()\n",
    "def loss(y,a,b,x): return sse(y, lin(a,b,x))\n",
    "def avg_loss(y,a,b,x): return np.sqrt(loss(y,a,b,x)/n)"
   ]
  },
  {
   "cell_type": "code",
   "execution_count": 9,
   "metadata": {},
   "outputs": [
    {
     "data": {
      "text/plain": [
       "9.2976"
      ]
     },
     "execution_count": 9,
     "metadata": {},
     "output_type": "execute_result"
    }
   ],
   "source": [
    "a_guess=-1.\n",
    "b_guess=1.\n",
    "avg_loss(y, a_guess, b_guess, x)"
   ]
  },
  {
   "cell_type": "code",
   "execution_count": 10,
   "metadata": {
    "collapsed": true
   },
   "outputs": [],
   "source": [
    "lr=0.01\n",
    "# d[(y-(a*x+b))**2,b] = 2 (b + a x - y)      = 2 (y_pred - y)\n",
    "# d[(y-(a*x+b))**2,a] = 2 x (b + a x - y)    = x * dy/db"
   ]
  },
  {
   "cell_type": "code",
   "execution_count": 11,
   "metadata": {},
   "outputs": [],
   "source": [
    "def upd():\n",
    "    global a_guess, b_guess\n",
    "    y_pred = lin(a_guess, b_guess, x)\n",
    "    dydb = 2 * (y_pred - y)\n",
    "    dyda = x*dydb\n",
    "    a_guess -= lr*dyda.mean()\n",
    "    b_guess -= lr*dydb.mean()"
   ]
  },
  {
   "cell_type": "code",
   "execution_count": 14,
   "metadata": {
    "collapsed": true
   },
   "outputs": [],
   "source": [
    "?animation.FuncAnimation"
   ]
  },
  {
   "cell_type": "code",
   "execution_count": 12,
   "metadata": {},
   "outputs": [
    {
     "data": {
      "text/html": [
       "<video width=\"500\" height=\"400\" controls autoplay loop>\n",
       "  <source type=\"video/mp4\" src=\"data:video/mp4;base64,AAAAHGZ0eXBNNFYgAAACAGlzb21pc28yYXZjMQAAAAhmcmVlAABPnG1kYXQAAAKuBgX//6rcRem9\n",
       "5tlIt5Ys2CDZI+7veDI2NCAtIGNvcmUgMTQ4IHIyNzQ4IDk3ZWFlZjIgLSBILjI2NC9NUEVHLTQg\n",
       "QVZDIGNvZGVjIC0gQ29weWxlZnQgMjAwMy0yMDE2IC0gaHR0cDovL3d3dy52aWRlb2xhbi5vcmcv\n",
       "eDI2NC5odG1sIC0gb3B0aW9uczogY2FiYWM9MSByZWY9MyBkZWJsb2NrPTE6MDowIGFuYWx5c2U9\n",
       "MHgzOjB4MTEzIG1lPWhleCBzdWJtZT03IHBzeT0xIHBzeV9yZD0xLjAwOjAuMDAgbWl4ZWRfcmVm\n",
       "PTEgbWVfcmFuZ2U9MTYgY2hyb21hX21lPTEgdHJlbGxpcz0xIDh4OGRjdD0xIGNxbT0wIGRlYWR6\n",
       "b25lPTIxLDExIGZhc3RfcHNraXA9MSBjaHJvbWFfcXBfb2Zmc2V0PS0yIHRocmVhZHM9NiBsb29r\n",
       "YWhlYWRfdGhyZWFkcz0xIHNsaWNlZF90aHJlYWRzPTAgbnI9MCBkZWNpbWF0ZT0xIGludGVybGFj\n",
       "ZWQ9MCBibHVyYXlfY29tcGF0PTAgY29uc3RyYWluZWRfaW50cmE9MCBiZnJhbWVzPTMgYl9weXJh\n",
       "bWlkPTIgYl9hZGFwdD0xIGJfYmlhcz0wIGRpcmVjdD0xIHdlaWdodGI9MSBvcGVuX2dvcD0wIHdl\n",
       "aWdodHA9MiBrZXlpbnQ9MjUwIGtleWludF9taW49MTAgc2NlbmVjdXQ9NDAgaW50cmFfcmVmcmVz\n",
       "aD0wIHJjX2xvb2thaGVhZD00MCByYz1jcmYgbWJ0cmVlPTEgY3JmPTIzLjAgcWNvbXA9MC42MCBx\n",
       "cG1pbj0wIHFwbWF4PTY5IHFwc3RlcD00IGlwX3JhdGlvPTEuNDAgYXE9MToxLjAwAIAAABL7ZYiE\n",
       "AD///vdonwKbWkN6gOSVxSXbT4H/q2dwfI/pAwAAAwAAAwAkAvzHv6EHQzQgAABQic/gsldNQVEG\n",
       "rVWJETueZW6CveofCONurjKq1mcfZ0P89EfiowXffzerReILorurz0Hw00X7IHiVKxzwYDZD0QxJ\n",
       "mjjow9WXmubobDkAApf6OtJM3Bt9cOlOvbiwHsguIU1/TuqPhMT6r5VN6s1/j/+gMygfOiU5+xZj\n",
       "Hc1Wn/nM+iM2cLxbeHp5Mrz5mU+ImUYt4I5DRpTEgPnwpe8t3kvK+zObt4Sq7nZkpqgkkiSn5AD3\n",
       "P426w90puC4zJCOIGkeqNLdzkyDLHsrqmxvGWdXAsNopljAyKA0hfm2QDKGe+PhZtN3hhPtMUKCA\n",
       "XaHIb3HLSHWKzqEyluf3xrkI4F7h906ephfqEYA6UOQHGz9lMQqAAkn8tzlJhTE4weKLaem5KA6f\n",
       "wbC9jv87FXGGG0ajtlTvHI91p11Wv///Xp4J4Xkyyr+f7k99FAVKScMpYW4rDrPDXoBy1eO9jkWv\n",
       "z2TOFflyRVQ6LvSVuozpVDAXlR52vi6EDXCIkYWG8VwcV/Ez1keSsQ9eq8VVhxEoaSVa+inAeJjr\n",
       "xemVkk7dsVJev+mknfRB0o0q4aARlx/20nDAT5W/9N/YXs7uCzJ91h6+sXfgx5j+3SSxZIbHVhab\n",
       "m0tjar3geQvyZJwyrGwdc2aJ350DiHhcXtAqbnlkn356ZaDiKb+YQ+j3GEKQhT2/U2nBdG2b2gLP\n",
       "2bYWL6pTb9hlIxC+o9YHLV3G1klzVV1oPYrDoOdDdA2JOFMStTU3pAg2o3xVf2LpUV5JV0jdUYDc\n",
       "jAFgg8+QODAaM2apgmx3VI31Tvm3iywcItRyomvEqmtFL2kgRqkGPLbMcHoG4dmMXzIqyqQyWrrq\n",
       "yKnu3ocACTAQ01icSgnq4Odw1t362CCGOiq8dL+vDeJY6z1tTRInmBIQH24EkoYOhsMPhhhVtmAl\n",
       "eVA0/P2lihddzmzJlyNE43iBjV5jsVbtuzu7qfpvHxTyP7sefCQ7IlJYQe49jP52G8+Hw8zJRfks\n",
       "LUY/FjTKadVL3j8XcL8ewH9VJjM5IKHDTA6Z3ugj4luff7TfI+VMXDI+x8rvYhPV26A68yFMIq7s\n",
       "jv2DWXcrPgbSZxwWEh6Pzda0kZ85FZL9E/T159ShVMprdgvJDPBF4kMNN7+SUYvduQWS7pRMCXnY\n",
       "jixxnZ2/nPslIX9N/+9QP/7zyOU9ngOGWt1+6lW63eF+7llnTIytcaCleDgnAIXNakcHZzo4etpr\n",
       "bMx/f5xMxdxpIuyppy7XYMF+Bk9HRhnFCEQDSP/SkTyY9/rQTNEAAAMAFmdxCeTTzZjwsgnaoyoU\n",
       "rRQw8I4U9zXbq63Vq/h17nBukyWOLjItniFQoz2V76zfIzh/H66XuvHmpzArIq/+V/6xQLBga298\n",
       "vgAc0cat3wHj9vJbszTYGo+yz24vEr0er5lJi2DWc1jNxldqovARZyoHbOciB2d+h0Hpr5KAsvlh\n",
       "nU3nz5VHH/X/UPOBLiyqgD+kBIURJKGNSz26kMb64GCLROp4tBZwZAImcc9Iy96kIWxZc5oL52Z8\n",
       "e8SA96YQBVtEUS/bF0Ea1yy65V0eeT4uwekl3k0svsLyrKikFn8knFFPe5fZ4Fn4NhxhkgKoP++a\n",
       "JpEk+BuUbDuAjiUfvuOpcK6x2jXGrZrC2pqfX2QKq468SLmJ4lcLoH3c36SEStg2Zannsp36nqUq\n",
       "adTTWOvTpDsdn+e+VcdhMgOeTIuBtVxTpzFKH/qtDCYg/H6mF47ImAxKUWPmfpc1pAas9Nu/EceK\n",
       "+cwwy9HvQY77dHhLGzpWprwML7yiMkEQ5lekSCLYq1ds4Accg/RwLUffzsafk9yf89WS+r5WDt4r\n",
       "jwQSq/+vFd23sxYqztHxpIQ8jJA868pt3IfdUXQXeJIWWMN+DWad5OwWcofyiyTO9nSFl3vXVP+6\n",
       "CwS6R0CX1r4PAIu2KqztO1gkEoam12KIA2qeRPM3EaEpv5//8YPzGf/LwOXh8xCVeGWbTVOUHM+x\n",
       "YA6QlUVCejovvAM6TxAuO3bxe7KcVL9LjJI5F6szgRxujzoXGUH/zHNvYca2UNzlqWXvmPaSGi2K\n",
       "217TMhkfjK0zU91d9Nu1oS2iH8Ij3QIA5tGt5/fwHR2KXwiQ1JYabiZLNzwBnW8xNZAUFcea64+V\n",
       "3P8k0RMCWvF+X6/XVv1keSxZHHhMnYjQLoGTewy1AbBXtNfWNC5nck58X0a+839AwaTMCU7l8D1j\n",
       "tTnPo1/NOAkUqwQM9joWf21hDzF2YYxdziQJrgJMWSW5O8/Jw+Iql0MaD31emScK9O27JX9JHgLV\n",
       "0ITNXa3Qrtqny1Ju60/FRkOILsvumV9deDMy1vM7IR8dZYU+xtWCYPXaus/svqKbxIcY6WcDJ/gj\n",
       "272GH3rLrrK+GEKKNIA8QCtOlOOzL2V/2ZdHVhaDFHhEctgfX+K9Jo/UignWKQQZLb1jmesEdA1d\n",
       "l20n7oloPchXLuDZ1bjWG+OHOlZ1LRrKTK5+jXNMRhfuGsCEPRRLkFHaG5ACWTay0U6Q9QYJD0dv\n",
       "ev7z8n0JNHWaL3GysQsj5BQI9/ivrZ4BbS3dnqXy2jtiki7eIyM6M1OMyT7osk2BOnn7TCnkhuzC\n",
       "A4DN1Edlpd4QMFuabKZ9un3HAaJG+wnoo4OAmYlGWbNzbx7ILVOgcyYp3Uj86lD0VJbO3UA2uDJY\n",
       "Nt/FJp9ZSOlMkUysk4x+C31RyVu1Zhy+V0kh4559N4VWHgwxFc88LELbIeRUk5LwweWKHOb7QRyE\n",
       "s6PcZcwdOb6QAP7DAR1u51e0asdDsDrWNVCD586HFbNULgOZy2dzt3+n1/T+f0BU//7KCuTNspru\n",
       "2YjERilhRwk1FBnmj0ZNMsAgjF4A6OiXocdfaPFyU3qIvb6LPNbLkl8ir7xyAddxJTQ4I25yFosF\n",
       "y+kJtD5VgxvgMHh9l+OZT8AW0M/wmqt/EduCVbCoYw1shA0RD6RCWMnRawnUhaJFDqJEFiE2PdV3\n",
       "aEm2UqfO7QXhee1n8F+VDq74oDVXshgHlR+lA+pvTn8ObAill+wSDaxahojxFEfllI06ObIMmWua\n",
       "ygPI9briGL3EQ2cRsVV15MeJEAahQ4BYm0G/YlcrV29xR693E/2ELzYbCgYRtyPjC7c1g3PGixTS\n",
       "Xz/zCF4nKpKknyzC5WWv4VcBpIEWvurLAJHlTCfLPS/EQLU8GnZqjc4Sc0Jb1y0GZB2YiJ9y6oRU\n",
       "hWsuBNNov6NgARWKPfvOzlvK+4RwkQDTetDTYtMeH+mQqf1DaBmtdAxMuxqF7q9To4h81+dmbHq6\n",
       "PEaoDNLh0efdOWr8Zsolx913H4TpvTeeeKTf3zTkl+AJf/6bDgBWNfKU5RPGF/dFI1E2+2eFz+cq\n",
       "C+878ynCIZWLduozNEfoH7wMckxf5Jz4XYXX1LlYFoSmXVgXQjgGuriIJMS1sxozlOKBk7iR9rnr\n",
       "xtW2K8Il6H2S4f5F3uyS1tUBgDRRjj8rc88TQ77TodqkN2OPG5JLJnA4/bmgQNLIDs9sSGQNnezA\n",
       "KKPZW0/7KrAJggpvPE779Y3oZzE5YjADKsFjcWk5HP9zH/Azs8q/pttPslOopYNr8kDCp30TGuZh\n",
       "VnQZYsm5iQRhUxGYF6cKD6x+5i4ivC/MVztmKoSBdSDObM5cX7mdtQFE45KWOP59VeTyoB/awF8g\n",
       "XE3qa4F56E37sYQIumTtT6k8jDXOHv3oW3rByiF5L94o9EBJiJmsMNGT09RtPI2iLnwG9L/DkTLc\n",
       "m9818DswI9YIMWgCVAUzU2dX+LDh7aMLBk4dJKTymy+A+fi8bM2quDJ7A3zM50+87X9VrDzOPabP\n",
       "kOhxOCO+Mr+35T6uK4wRyeFHAcx7g6VAwtin7K9oB+d6jV/vEWJfzgbvwkjJRA93RZ2z8DrvGvLx\n",
       "yqMyslrXEDIuFUgWfx8/j6Z3XhZF+nhI7VEipQy+bfVgIsjppWBEkPAkI525Ejw5ejqivogjI94t\n",
       "/2yFLjXLhdQo7RBuMC09m37zkQ7ocAANx8CjexfeVXuD3hzTjFfh5i6Czlfx/zM1KRbUBCMl5FfB\n",
       "Al8AIbGcAIY9UpS8j1/zcdJBbj1vJmFomq/LrAfeTSJTO7QbJA6wy5M28UYZhNlptazJP+6Gu4H8\n",
       "N+eXDVFHa++xGV+XvyKuX0H2N72ICqtDa0J3U8O2xfPNnlqf/HWoh96Ba2u/f1vssMeU24xhOM1d\n",
       "sq/PZknfMW2HJY/vBsJRKWCsSL0P2sMjF3W0bzi9FjKclzMs5m0DvBm6+w75glcf6I6n32xhPTzm\n",
       "oJ2HLAV+lXttF2GcqcIStlSwaYAE/o1k6J7vvnTbkbzL5JtDTPA71uADGYX9OkKkxgA4pHUGCoRS\n",
       "Eu4Zw0nVcTZyX2z4ZAPy0UmVowZvpVWq9WkD/z/4KCbHn4PLYSB6HIvZH2FhKbFBel3oo8fL649y\n",
       "ue3K8n8K6XQqiRmgaVIjUN4n6SkAAAMALAAG3Ta0R9xga0lsXJVGWVahzwS7mrfeZoMFsWbrX2wa\n",
       "7eUgBBWAu02kIQD0Crl+sUyqBEHn8MAAwGCNCK89NSMoKmjKUVSht3iV3JhfscsY1GTFIa3C9QQA\n",
       "pVkELS2FRlP635j1AqbwqdVqrpa1ql/3LHDWHGCR35wvH0mqlwkS/HXRTWuvXyVnkbIyc8P70DXg\n",
       "ouf8Qw5eTLXhDZP/VKoMa0o4rF9xKQIm4+YMxpiRwiJhqHpXXMCOVyVjKqlU0qz2cI7RdIqP+sv/\n",
       "6k7h1+uYmCiJUIZpLQZG94PwKTyIoVMuwB57XNpKUvTfnEnQqVO+fMbnedKasMwKMaRcVOiRs0QZ\n",
       "xDhNexn8B8vHETHejM8Q7suLl6BhjtJYsT8NEM+uux6sSUvK0M9B7wAEYtFspfuHOhsVGt5DxSzt\n",
       "wqPopP1z5Pmw0qI8qL3dUjpJudeSXymBqwPXq+dv5UGsLVM9fBi+h+6yMr925VefKRLD8cy7MZd9\n",
       "BD6VNQlPLq+JM7LjtrmQBeVFUznG4soUMM+yZqlZ+7sbBQwHi9h6KpUtLLWz78UfFFvrM47x0Dzu\n",
       "fmReYU+pBmFWR77BTYqgylvRxnxvsIkeOz8C+CVopczHPYNzseopF1BMoSGH45MUCUpPq2l+lqPL\n",
       "QbUnKpBVXalOAEPuFEtlcD2D5ewgpVv7pX8I2QyoPEQhfqA+sUPDH7dSDICm3bPuzQ1PLF/wGjzK\n",
       "T2GJ7KDNfE0tKZe8MRptJwxzR7bjLdXoyD3f+Ayz1jn6c3DsHrxXi7/2vlPznBp36N6niYMuvjZT\n",
       "MCXttTA8BLWwYxxbTQTKcUnw3V+z7wYcMoM5EdgDQNPg0glsu3QWJenbo8ru0Zxfa0IyTdfNXMUA\n",
       "SFdxARX1XVEcWl7Sa6Dyn78M89NNTSg+ln3Lrf4/B8ZrdHzYgtvnUo08SgB04btTmU1Sjj5NpEYy\n",
       "9vuGQrK+3Tn1HLNK+gDWDUjUust8961HYE9h9CzHL6oFJTQTLMlc6378WG3dWjrdm/VlQRKtBg5a\n",
       "lcHbfD9oo1SXhKj0TiSi7vMmZgy4lvam7gn713q4x+NnEQER0zpqa4m5akasjKAzkGYHhxsx/0X/\n",
       "z0oArlD+JIgP5vfHFm/6uqj1p9aq8JJ6MTs8w/8CnrKQMicpCXY1fbp5S0mFN+6cO3R7iejPxlpQ\n",
       "KjMvstROtUdhgpDvMbMPLHSTkVCl0rjB+CyytW154UvB02v1sVihqvt21hxPpTeGztqMYI2Xpa/g\n",
       "9DS9dzOi3F9nqiWJfmowuwTqTeJRrN9Q5c+47TZIKhBvAiLgJHbSXu6ux9jzIJPKYxa8qfvSmS0K\n",
       "TOpXWAJ1Rb/ywvxy9/vChbwxZxdnveSvN/I6yaJAAe9tw5zsb3S2GKHlNrlzv2vwgg1/lD2BiR0g\n",
       "DEVuI2/AyabC3NaOaNnkKKkqAc4QJMpesa+IMXUXGCdeaoe5Q1ty25KR16IBgt57U7T4/+L0bQo/\n",
       "aQfDBSb3mpK9WQXTcK49McEAl4HLCceucEjAc/hZy9ta/e9r+Sh826ffRSrNh7YIxw/N8nh12DoE\n",
       "BI8MyygWSQUXfoFXfDK6iGTUP65pce6ef5Gj46HMCridBDx4gXkgDZLiCZjbklc8hRUhh9jc3A//\n",
       "zbcrdirDGGAUTXdXlPcxEPaG4F1p29RUGXOjso8ONUKwzFEoEPeqUZp5qnl226fNq3dcwY3JWx7N\n",
       "c9OewUQmP8FhV49l04aQJ6Xe3XwPQcjGqZSP9D7EVao7emgK8Stwcseq59lDPY3CdxzkhzVpgkup\n",
       "bxobB6TNq6UmUHTwVSZbZz/sNT1EJzcjkmQFN69fDlSIxGRulLa3diNo18ns/rJnglnfoS9Y9O0c\n",
       "PrZciCKZd+A3EzhKCysZfYGyUvmxOosiI5OBFMCa4i1YI/iSM831WqQNWmzhBi2zWp+ns1iYDI/6\n",
       "/y3YpQ+pUAAAdkEAAAJ0QZohbEP//qmWAClCZegFIPuZPXQjdEzz2JHUdFh2RznNfASt2xETOqLc\n",
       "ILvQrnNA1eLEouKqoLinU1XjO6kvEVH21TXr5I5YBOBnX1ELqN4ox6VeMp6PZFR1TX/4k5Bjsl5v\n",
       "egTgNKyq4tSAgmbEA7EQF6U5h5cMJIGSpvU/wI6vUz7kxkyR9V39naFaZrUL7O2XZk6u3i1d/EVI\n",
       "SPjS+Tlbe3vuxtz7Er1YHQPpwuLUzpzaBQRBjKbKKHNvf95ORc4yzz2t8JCJGmOTMJooaSbx9uUi\n",
       "2gyKlW+ws/7z/rFaEWrSIT8B+eASrU7lo9M15p3qwzXb3VmtHN1PjKNVuPNkoKpRhbjKrbhoYKeK\n",
       "O3edQ8iwCxgo0I/5xf6jJxn+ntMJgT6aCtyf0i379fq6pqptgC4F1mrq7KP9hXjciqP4p4SkcNYB\n",
       "rAr/Uiot90JQjArb8qWNzUhvSrTuP4DDayyqFpjm+UXsvd1bbEFPT/MiKIsuGyu8UJmqIaKtXUFu\n",
       "QhsdxjFq2IZqD9QRzGRrSWrov+eJWuZ/OkgJQIIhB8JsiM5oynwg/RZKhL6M546zho30uyuAp7Dw\n",
       "So3pf4e4aaXPGHFnnkiIG+hmXFDrGg7Jkd53/PdwwRzVqmhU3hH9wUqwnhB3OdOe2IQOtJ3qdfno\n",
       "yLhiKSePW4DUyB6Quoix7uy7reEUrIE+VQ5fFXWisBtj/6PXm4Ofo/uqmg1jsrKLYyjUlt2SQl7U\n",
       "JKWPnZZlWVNlw9X33y2CDfvaeGeQ2k4kKnsopAAAAwABOgAAAwCnJVAKj1GhO1VP5tKI5uHDYWRS\n",
       "kPGZcpsfEnoHx+YbOzz6wAAAA2tBmkI8IZMphD///qmWAAARnlf+HmHGgA/pD5Uqjh+QEwgV0cVx\n",
       "13RQvAFDRDSeFpum1sMEHTEKF3S+7mPY/Fi+MM0/Vz0Z6l64sGUoutIypQCFJQ+k8qlcI61Ti2Jz\n",
       "rShEFHuYdNQTI725tBFzN2tRTObwR1LPnQFD0u2WcPtcGL+ua5O7zg9umPwtEvm2MCBckCkbnb4N\n",
       "gcL+LqAZ7eORef94AaJOOlEscF0IcpPI0ihH3dqQBvKw0U2dsg0SNS8+a+Fki3dk+k3T9cTiNQ2b\n",
       "sldeSyn4cArhWvjIcVdLyK7LNnOvWoqBKRIeYIP8pu8enMlbT+b1YrhE9bBIHlJjglqqJnJHsDgJ\n",
       "a0QMKB6YW1O/flz4tXOlf6M9ALgzPxRGwB5spYbW92tqGVYruODo2uPjpicaAnSEDaHrJmXrAF3J\n",
       "u/IcORQslvH7bRX2yzrfNbdkYvvQfqUzeo4W6ZwuIA7hzrgtzPqYOdMb/rWWX5z/O6Q1oZz26s6f\n",
       "VTbz817Cny7t4uvuyS6+38lfq7F6i6j7UKYkDvkqhmSGFItYnx7dQ4n1FJh/veCOzwG9KgN3QyUW\n",
       "bRXF5go2L6M2iWFlGv/NKvnKa2WUllTXMpSbGhfAn2okS0nL5QoNXKitnxRBkcpSdVP5xAdgqkdU\n",
       "41nB28RvjmFUuEuB+jWwB++sJjB0yWkQwke2ZDtzUjKjbr9hw2Nyt8zAhv0gM3BRko2OdFwfAjE/\n",
       "vkJ9mfGUs9WmoS97I8MvtSuoqAV2CpMz3qQI3F7Bm+DwWFpGBHSdgewj4SVPOYmpT+BanoOXKbfX\n",
       "1JcHv2wl37Bt7AVa+7TVG2wJnmJwWi4EIyPU2kpYOwe7gzW+7GO8oPTOx0BrfJaoahcAbImP2SXH\n",
       "MVpy/EYcIaM2LEHD0L3jsIw36MTfRC6/BPNHj6DNvi9Qoo05nz+5sMi67JvdDiyM1FUj4P56AnKE\n",
       "qVfKf8Smx7Iir9/6JHxg5VKM4iO09RWfADTWuMbOu6LKbdFVkCpCDYBT1E4YTNWJswEx+kZR38F3\n",
       "KyvQfxwGy2FtmBeJgzz/e0VvtBRm6PR9QRlhvEweX0wBBfhyfbxc12rBT8D0mqro66okr6Ci9MBB\n",
       "Bk5Unad47T87uh9uIOrjL2EYefuXzJCWKFmV2F5XsAS4/bQ7xAAqYQAABIdBmmNJ4Q8mUwIf//6p\n",
       "lgAAVThb8I5WIAE6qUv65nGop48FYVHVNf/iTts51VM4xwix1pFXS96hRVT+blyywWVkbtvC0GwJ\n",
       "NDnKF8mMkSPQPqdcSgpwRd3Tew4EXUpdL3IYyVR3wmhpYTkFIzbcQAUz5sP+R5XClFWUw9E895jh\n",
       "S9L3pDbAjwbSipra9rfMuu0xgvh7pPj3Lf6sqbkqYsdALP/wqMCxVoFiJOBHhX6F+dbl012LzNSu\n",
       "8z7Os9TefVO46JMClNg7QXXJhSscOgFGeogoNKGVlpqcHQ/xe+Jm8sJzA+T2yTrvSwaI5UkiTrLW\n",
       "VI7OUKA+G1H7OVwr8z2EytplyZ0g7y2jDxa1C8c8TGWckT5RlIM8K/26oCtnsJGwf9lfWk/sZdjc\n",
       "0QgissJoyayU4/nb9fyDeEVLC/mpxmLK8vaBAJD0mkBLWh1Ltv1DS3sS7SQbPtrspGJxH9wC3vQR\n",
       "DVfjbAtNkUzwWY8HDkctopA5FNpX7hlpGG5KP860ywYg6esGoib0+yMW4BLf0A1GxNv849h2JQa9\n",
       "P4IPoqcN66Z0WZAkGtwo82B56OJwqYoIJUxBPqC5+jo7MtzzHCiZK4W3Dbsns26/Eh5pnTfl8q2n\n",
       "kbOa0LLAABHP/16fgK0dbkOQiG3NB7Yf5OUSTf6kuJr3olIye3zB+BhobCQFJ+/h2rwaTPCUZ+SE\n",
       "dr36/hMnyPeA1lK0lWNAU6DpU4P0F1NtsYtxocbnJ8bt+u9hH4Q7FyxzCXn+/bB4IJWWeURH69zp\n",
       "N56++SnjdBSar3V8D2Y/bjDHhqR5kzOcwRWMuiyNYeQwooa7NcvcilwubH7wFIlkAQvaZQj+LLlr\n",
       "dMe+6hi+GbwcxmrM7Xtkal1WOyJZoEHQxjn2+gYlFEiN0k5j8eSU7vnxIXXB8xYdZCx2XrzzKznL\n",
       "34zXWLL8etHFu8umat6p6Cfk/svwUoDRm0hNB8a3YAPTgYd0O2oTk91RPpBygnCEe0LaizMtuv1E\n",
       "K7tQCUBQqH854ywvbSJjFhH/tWq2C73ZuQ3EaNjE4wQje8XzeseyGgRB1X+FrDUsPXgFK/6Y6F+9\n",
       "IGDKRktwdFtSNxP6dVuXP3ev+TjFidoosRuhjnG4yZSOVZGlq+UxS9Vm5XqSTr3xLy7ZZqfkiptD\n",
       "wsB0fFtltKIdyQ1HKw+X/nNY2OxzX1nHYaZfE2OCb1no7IqvH4SolfCCUvboCJ4UWR69cT8ST9nN\n",
       "dUxBkHGvSTM2w3PzZQtWff6BNJqlPwwJgu4DWZJNcnmXrZKTbkly+Cs+yFfqSCVmpj9hUiQ5ZRjR\n",
       "OFejFnJm7+/jvZBgr/zazLlEkpVNX3IXoK3PYcT7NdPlg+sSJBKEdZSfk33NeiKfMETkLoN8m6Ac\n",
       "Z5PghD9hwDZWEI/4CwJ9LGqaUy15xfppJuAEv0ANjAheABUQu8CHH+4J9Wko54zTm0McB0uUzXCr\n",
       "R2N4XDpzYpsozKffCrIKaieLfT1gCuicjXDUHE/Vj4Sdvn/fRGq5/mMaLAYGO5wXqEl9tp2wL5NK\n",
       "20RoAGBAAAACYEGahEnhDyZTAh///qmWAADPS5tGNgZ9LTdpAfVxy841PZz+H0KXgmFdledldSdG\n",
       "Z4pCgipt9OrFH2lwrkGPix/ZLdMkTecEu1iKvzjgd3CGHOdupjjGfNWuLnoBnkF/QAYo7uVEluA4\n",
       "L7ah8vS2cx4wy4JPQqYusHk/iS2dbylUf0rA3PwWC+Rd7hGbgluSSEDLZTO2mHat5W/bnDubHxML\n",
       "r6u0N8BGI2KD6L5X/F/eHl6Sdsa+aFC83uOOdNe13uaOV0nDQMkW2Hy4L7ZWDKsPSATuj6C6SKXh\n",
       "B1iEeQV1rhjG35Dlp5lZ3BX16tVMreRMZSRE8hPr/Uim+8bAZDBsRXDxptYo5DiSbU0J7C9VZxFI\n",
       "aWsEuJ+a33cSUaGQLeiqq3TpK2HVKvpusb3e4w71HPSTx85+7r0vmF/4zt4kLJIZWx0iOyQ44cVz\n",
       "Rvg2qLQU2KxgmEe6y4wSBrWXW4jDlH4cuU2XVmiyDetUqoMjoEXQ8zLncOhIJqU3wZ4/+HegT5CO\n",
       "Py9O7XrVJnYAIWDrmn9ohwzpQ5sS0rfS5cFCWys8N83cpJGxKYpks2yS8fXH726oCU5KBc17DVZV\n",
       "Hby3iTWNW6FHniZ6iOfSRDVP8tXsa3YF9hJy/x2f+RkOtJU26pkjh1gHD0K5+LrST7tXYCUdlGb+\n",
       "khG7RogYGGnt8tuVIGXOMLroPbVQVfsm9i4WJllVSgdVQEm8I4BOijEm2dEBy6ZiEz4V3GTon4fX\n",
       "YJiqlLpuZCIY2hJjAj9JyZzydYKmEgJTOeAsWrxknTmhUsQWOiS+f1AAAEWvhB3RAAAC1EGapUnh\n",
       "DyZTAgh//qpVAAB0jCBQMngLkNQCRXNAAJy1P6+104bvcKXRSR+0lOffaR40QTp1e/fE4I5Ugka2\n",
       "p1Hqti4M4MTu0eCAWpNTN2i8FRtMyS6JBATFV3wq7nYYi/8X3CBAgB9S+NT4SNzqTsHR1hm1KB6I\n",
       "om5R3MZj6sRsYfeX6lK68bQOIUv22eB6kWYw/7voM0IsJyJBOASNvNr+wQu1d/QRmdN9+LsKJl3+\n",
       "OBexPTg3bJh1y5SoayUswNMMje/R93fW9ZcvUQhQHvo9ib0/gc2AJJltyGDoJi7gHxRup7LjHdFH\n",
       "u6xz2rtrqwur+gtFxCrfk54p153SzyxExb1wV2Z0TcxBX2O20ZtITE+5KKMRHoKWtVxQyoeozvFN\n",
       "pG64A6dG22nxmd0p/aiJdkr2VlZl7Y8Y6hU6nHqearB7p5fSSBh1z2XC+xrOyg1yGYuE4E8VzKsX\n",
       "sA+QuqLpIvEkpA036TdIx8MxsjA/sMb/97ZnQfDYOYtx9luIhDj4XFBwMB7FNtZTq/NhbqiThsSI\n",
       "/szkWNOMN5bNhKVbKNAA6PVJG+WbYh165Q8h7KZ9vAvmYY4VGYHF6jfdxKxpJOrh3fuGjJqHEjag\n",
       "+ZlBgqr6JnON1M+g1JVtnyj5h7e55o+zM/bT+/pvtos0JUoN6wEsBi39AsSsm9+bUjAnxfuezy3d\n",
       "96e3zC6iurPJheLtp9wXA2tNzZFMNZYWHp90zuEVEdbqXLEbSHd4L1957WkX2tLniGBOIMtAlqnJ\n",
       "pPIhzcgCyaIUtLdwiM6rJzkAF5saEhLv6SESdLsNNc0ZIH3uQainlhcY/2efvJ2SOI1P3FtCIrdu\n",
       "f1C9MABQ8KJSy3htfpQvLc0OUOQlEnCMV2TSoxLSk9GekfMAkVd4xeYq2yGdRsJn+JQzo5e2AAfm\n",
       "orz4gBfYkg4dCn2kDpuuyBoD+gT705qiCGKpj7niBYZOfpUAAAH0QZrGSeEPJlMCCH/+qlUAAQA9\n",
       "uinnM24VI5psH+u8XcASrmC69VNedIACHcD7UlTZMDu+LUO7IZ9t2gI109zA4Dv3r/ghKRuBX0C0\n",
       "m3XKTqq5J76WU7OqBlX6FvrhomZOkIyHdPAhkHKiRdo+YQtu8LHUUXdjsyxq7eBzlMipDzhuVlvN\n",
       "pi7Y0FIakFuvXWyLlJ4vPh5P5h9hnZ++GlGvbgP7+HzL9OHkchSaJ3Kd89hc3TBUYOq+jBM3Om+1\n",
       "szSUhDr6t9oPzNdlxxH06FskhaCASI/7KGqLmNSXxiy52iscB3mEeayWVt+cSLpi00bcZc32Z3Vz\n",
       "ce4qQGgv0W852cLaMAq41d71xz8+1+knqIUwAXGWLaVW/EvshSTueok0WgzTCMADoEwNcqidzwc0\n",
       "Ta1Rs3ROkZT0n+LIzT3DHQs1TdLmDzf4d9Wk+Jbcqplbf73Xvn6hbQhlo75JMcK8ChpKP7YM+RTp\n",
       "NBPTVgzUeSM9z9JgWHY3N309zSDk8484zJNkxe95aG/TvAnwO1eJffI3OA/UiCK/Y2HAjBusgNMg\n",
       "uu8RuRFIbuMIRBepBaajzuveJZdSJtjC1GmX9PI3g2MxGgQBBqPXYRTHgq9QeiEsOpsB9mGr/8yC\n",
       "kdFCUJT554A3KqHApn/5SQR+M7ceLWgAhL0AAAHfQZrnSeEPJlMCCP/+tSqAASBtjAdVOU4Rx55g\n",
       "TX/JEOHO+T6rpaJ6+TfhnZfkvtSM3OcAB6XzTJHWA2gqS+Ckfe4Akk3Pdkncgyy+PtprYbK0Axfj\n",
       "dVQDuRUaCbrirD62bHKXFMtrCd7dtYiwypye8zX/6AEeFNBtLmNOqvm9LwJlSJ5XelzYA8tzn/p1\n",
       "vMzhQ1siGhGhXHdLiY8mdG4fECI5W8HgV+r0Ks1mRxZzg500EBLxhrp3XypVhienULXqQk7UWmcn\n",
       "itFSQV7hNHdadJBoAUJZ/xdIRUF3LVrqs10Mr0d+72F4uCu0NxwadvZmSHJMI/kAdDuHXAgS3E1Q\n",
       "qKk+fr4gevbnGKu+B+Gz77NpZ5atUp4O7qky9+lfCVt48WicnScVcdj+mSeGbG1bR++W8MKmETVU\n",
       "uMo6UBk0f5Bwu1/VAAvckQ2tBCMUHdDQ/0/1uMQuhkLR/wDNIPVZlwuc3z9y0UuKa1Xb3EkvT85v\n",
       "AqiFYLpUArpbNOGwkeT9Yq0MkLR4ypJ3LbwwIuDnZj6j+r3n8grw5TnlnZ84d+cgzRaXYTDy9Wdm\n",
       "xLVLpej/dFXXvKXvCGQ6E0UQWiLVuSyHLan2HcWopXr+Mc15ycrFL/VyOhSaNGcm6eH6Z7kAAAJe\n",
       "QZsJSeEPJlMFETwR//61KoACYN8hABtV59SYeGZXt3NCii5a9zALHbUa4m4LS4M4RTN+/I0RtrMP\n",
       "+NtM2GyFfgN7RvvkfrAswp4ALSMFzUPzI4nFnNF5e1llpL0zO2XXNU4t0T32uFfG9lAYD0xWdnAX\n",
       "jmCV1ctKQPdb2OVcssSz5470K9JkoGAwMZ8CLlLKlamdEnELno3m9LDEMiFCZLMXW5kTfa/UcaFh\n",
       "/gmfkIebgoZDChoE/xvXB++PWmSLq9qh8s+h7JtEpmvYz+QYS42Myz6uOS3AB2gdXqeXw3ukWC5L\n",
       "3AogocfiNJQlmKdj5fYqXfDm4SDB+0DpgFGV1OnNfZnS1wh5HYPcLjUyVVSrnaRmRJ57g87kw+vS\n",
       "wZ4pDZNKqtVIO1FbdyexrhJKXnN4YkOMxQ4H5OEikG9nlGs1xXi7EIWox01PURkPdg1/p7Uaxg+M\n",
       "RpzefyJOZgtQsIipKVdupQrZqRtuD65i7IUJvdlQZV/iOIufDOgPSVERDs/wP9yvvzzbN21AcPQM\n",
       "exbgd/w882Pv1uhm6rivvE2O5jYIoLtu4dhU140GdS199Gz4StYSoxmGE8IxwgP50UY/jUFslf41\n",
       "T2+UV4JyrFySp/WY1JjUZ6OBt1IrT/wHsjSaS+vhsYdvTUfRKyKSNJYTF227RC0Olkk7YIDlYrKx\n",
       "0L0fXN0tQdmX0QzhxQzNIb9TXNRd9Ae3UCZiu95pMaWQV82MidH7V+N6P1z6Oz1q+2wI1OrBg2gy\n",
       "Yfz2GmD5HxIIlpdFhGQgnSsDTJ8NmWs/DNK6KZ87dylspYMSAAAAwgGfKGpDfwANMXZZFYk0WSFa\n",
       "0k27Csrn/1AUREdp27biWAEzIpOQ+9KqttNMNQwxOFEZNfkah7EegZrlALudRUEll1zRw+0dbPc9\n",
       "deANwLZro9/FgDl6XexOtGX+OLNojWN7w6RQV5tBolnAHQ/KeLh9rdn2XtuvHHIO9d3Ee+wB1QKQ\n",
       "OtwzjsjLhyV3C3xzTCnYFBXMvkuR07+/5sk2y+B0LPceIoDZvoaQ6HllirgJBqsF4ErPupKeaKvM\n",
       "zJHUAHHAAAAEwUGbLUnhDyZTAgj//rUqgAKmUOoADLvouh01FWPPNjkKsJuaA6o8Z8M4UV/ik1mh\n",
       "ykmUVhCWOTnW/45BmjBHahbJwFr7/EkHj29jXlXe4dPlLmQFM/wCcihMT/krD5AE38s1swpnGROX\n",
       "qFH73wE1PZ+OaPhRMrhUtoDVrRXbmBYeXuSQy45nmagAFxj10lU6QL4jPhvDTZ+2yDt7T4hzmbLu\n",
       "9x0hxf8GVcvD72K6vz0KQ1jhlYz7vQWag472/sj3lKs2RcijD0sF3dqufugpKZ4pv+I1Pb8Zty4c\n",
       "wh0jWIfchL/fe/Ge+6J36Gf42nOe+r9riFM+y9bUVf5/ooc2p+Lh+jEM7fiTQNT5HDmw0wSvgpzM\n",
       "MBNSndb+xMLK8qnH/ewzJGuHsh9aYRt7jbuUB2zBTckD3UfQ7jo4VHiEpGKUPmWCZwb8Xx3yr/b3\n",
       "8aF9q9xst3qcDv4MaaB1vjwCu/cXwdFUc932e7oa8rRKSWEi9dlEHcmkGBHfA4VPBLY1kutFcVhv\n",
       "AXBRcEBPr8u6wwiU3Zm9WX852YzC6+Z7ka9cRq3iJEhs4h52HPln/q3txtY/k5DmBNdDlc5Gdts1\n",
       "Es8n8fvJypgm09x91eXpnUWYV7ULoEmUb6rjYG8Bo75T/a+7ES4P8bizX+dJccmHXmOuEned6oW3\n",
       "t2gTIzF7Ev2Wvs1Qz/pKWmln3jGAzeBM9+PJnJ3f5rIomZY610iFfRmE+mGV1OAbklsE2PkUnE0y\n",
       "U8Ud2dAxBsTMt1NtC2dTDQu5iSDFsAHjcxQe6SndxHPU1JoHcPJFe/ANRyVzrbhM/s/9IAjEQyH4\n",
       "D4tPF54AG7AWSGlnkYZ4bxHdbkX0u/HjJCanU5MQRg3n62GcRZGBVLnagZB5QZ78nUVPEk5I7Eue\n",
       "4l5lNlMLVaRpFKJagtsSKonwvcJpdA0xHgP8bWnN1e50/bHmlVawXNsBF6s5l/0RNgbqUI86IMlb\n",
       "VoR87UFsuFRsHpbjP73ROATw/+ouNIMa5+EfdZXCdKAN/iM10Rn3WBLGmokYcn3lKLYxhUsWEdTY\n",
       "janlVhM3sNFXcvPk2AGQZbLC1TKxYQgOg7RlXs+NvBZt0l2iirRyJM3HXa+6T5HHghsphK5ORlez\n",
       "DS8Cp2itCa6unqKw34/d+qhymXSGlp1YEKQ8JreOgNzTkk/Ey/TwK1wULFKLjLAp/iJhgjpmKk05\n",
       "vlW54qCxxbeUGa7pTytIuIu/+lmprDqdfMeJPlWXhU45Xo301cbKNPo9uF5CHwmQR+E0Ppwihgl1\n",
       "cFG2zajJGad8ccT0HSn9EOcnUXU0aY+kbykednqutAPG33nVH+QQe0Muz2eObNXBQZd0/f9BjHBB\n",
       "lCeoG8TeP8WWS2wbujEbZiliuOFjiYG3uT9Pa92K41PtSLlfJrXseQdKmoVES7BcLkgY4I6ZBv2V\n",
       "1scZa9n4chQnK43fOJB2FYtprl1xHuRgbD5gDqGhZOsXczam0KOXDgFiabwn2BTYnlqWgSSuppWw\n",
       "6aNppNywQ275m89BgO/+J1hVXimoD2bBM2CEnxGzvAdDtwSQfdrj4eIVNPep669E/iDY0WNhz+TX\n",
       "isqJ9wYezXeqcm6BM0otwn2q4exHdUTbwHnf0KuBAAACzEGfS0URPDv/ABDYAM4vlq/+FbiLdiz0\n",
       "/YAQglV1RS8W4II2KQfiY9z00EwgK/RWThV+bu3tETEnCkXoilj1S0t47a5/C78KZcM3mLaQ91vg\n",
       "qbj0Cv9ciBJK8GZoRNtnmdBD4owd8r3W3+0WbBEh/6Epf2kdIa06+j/a/9SOzvLtLH3/NhhI4lWD\n",
       "5vFqt2hoaPJNQ58rIcj/8Nc9+M+PFRsH6xOjII0BcnAm63SpkXDTYwqF/2HaghuLt24PUeesT769\n",
       "5L+Zib3XEmu+9jWwwgbT2Vgo8OgZ5kT9nkolCdiArq71/7Y7aiksYQqGGtFA/2XdgYpIXnRmjYo/\n",
       "QcV+1BMrMbFxwFz4a91oXa4jrbGi3cjTZ4VHBPfDsAjLdMaTGsLfia56E5gntTqr2PACZIHCMy0J\n",
       "o2zCLQ+wRTGwStOk0LZg+joAnzSGkijEnJkH0wjoVOmqOWtgjaSBFPcDIVhX/slktghZXNCLWlg1\n",
       "yc9sD25dcowxO63p8xKyxzYh0e9pSXlkDkEJFx+qYj++iFUqPde2h2kbD0lduHjKlryk3WaGezz7\n",
       "vn3NiLOCxwXzM0smA3aVCs/qAtYnW22VlAFaYcjBJoAdK/OaxwW/qfYZ3CkGlFSbCv/+OUAti+pY\n",
       "D/O1YxA/cLvB0jZ1gCN3/QfHyB2r2IvskPKOWw1hn8/BZzYTledUlmynx4Cw0+CWdg9r/36HHs83\n",
       "0Xs+JkZ22+RLoltFgCjcrNdee1zVMz+ltVd14qMSF1ljL96vczgpWznwgrd8rtOUcBCkAPSI2Ncj\n",
       "aDB64h2EWnM0ZX6y5M8Q6XqVCD+45obdifcRXvwViaF6ff5X0rehRMYlCZoFyxI10bOGCHK3c1Xo\n",
       "Qp8E/BKPvu0h/tPDuVDRFhHhq7XNI634ZYk8nkYx/CxsLG0IJi49sMpNWt/C18mNDkNAEaC/NBOV\n",
       "uOqGroWWOAGzAAABNwGfanRDfwAYPu5tPK4AxXAHYTCvWFMgBCICs8GfmnrA28d2WlZBNZh8tDTX\n",
       "U99zuscbBU6e+leJMCDe6GIQ/17Q5HXz9jbRp7LoMENA+e/iS3pwGPgzcoGxpOYUgUgy2tLZGtJk\n",
       "vuJXLxCnMTcieG7KsYqdTkWBFRUO9TLGuMJTbbbT6pBoSWARv6l6k7KQuZLcM/JrBBE1dZqUoIk/\n",
       "4qZWt4puYkF6iaPtZEPI91FczOT7mZXGaASvQJogUOZvhOaznC9dgAp0kxVd/rAa/rBuChMAC7Hf\n",
       "UcqKiq/ePc6D6fTsoa9hf6C312J1mdW24FRbgNUrexRoqSsIoIg4NT7dZwfsn/bCIAddlZN6DRJK\n",
       "Fw3vMwiaIZwzhnBQyebFyR3IrQIP7FSqJv4/dIFv3mlpZcsoAAK2AAAB/AGfbGpDfwAYPu5tPK+a\n",
       "coHSQQuCAAiD3IzPavlwV7KoNPrHwTqJi1IxCtpLCNo2iuYqlHbWFH9LYB7gKQnhdmwqdz5qKbg6\n",
       "1a/Evq/Dlg+WNV2RoeMdPIlrUOgW8scLi/Kt4GdXVLvIUEiDHCsbvEGtYPr5dHVW85Wygv8uqg/X\n",
       "tt8UXHZyp1La1zJtIJTNf54UGcxqfkvgQI8/sOlpI49/aZ+Hv55Zjh0tRNbO2H9nv14A6UmsfBcq\n",
       "MPaXhLiGiR1tmkJDgZwF/MiYbzUqTKsPaOSKAlq09uviYN5M3wTzxTmPnRqfaMDNaxJpk1GbdZV3\n",
       "L0AXxaNVCCQkLbFf8aFzyp65csKKdnMR70GIR9xScQeb68xNamVSWy2z0mZgOx6cO/FlasP67WZ0\n",
       "LScCWyGRdTxB31bbj3ttLmWzc3Utak4D09Y0EM0IfPaBey1ctotzMO7ivTCwB3gnGtAHexbTiDyW\n",
       "THNDe7S6KvN66DWHS1KDJUZs+Bc/iJNuCap0dzPhoCBMPhuHPwMpSy+Kkc13EUiAXhxSw9sBFkaM\n",
       "7PXajq/hsiYPRWlq7QAX3TC9wLM0F1zZztUHIjPKe7yLUQ5RJAQI5jfk0DtrLL/ToEs9+jtFs14T\n",
       "yF/vZxtnNrq0TZ67S6STiml7Po/jj1AFBMv8k98Ya1m7ZmcAB6UAAARtQZtwSahBaJlMCCP//rUq\n",
       "gAKlsX3cBavgBJOH1GfCu9iKDE8WLExnE5cUBXbl57/5cLCk2cUaCcUJ2ElJcpiwXkk0pAWIcJcJ\n",
       "VmacQavIQVLk0uxCNJ9gpqzD4sq7sU+iDa2bUYv03nn4lNbvGqFuEjixoa28yC5/FPlUU6ACCUjB\n",
       "P6YMKDW2nJNIa5Zj/EP6ISYzE3eIlBp8yIANlWLiwf+Zn205pXgWjKZtJiWQGdWRql+46D3zcnFO\n",
       "OgNINAY2T42d17+mHVgTdwjHOO+ja/dB2tMGNZR/NQBurGlbDmIZDPjsEj8SZYhm+6F886FCE7Q7\n",
       "D/vuRtXY0c/++/7kr3RK2M6tThOomSz5wy2l+fiCoaZ9BePpWq5ZL3Csv0LWQPD2bTRZ3x5cjzrR\n",
       "uHCL/hL5pg/EpzSf7LoT6TCNVxUp6IIY3AUwm3lt1yleQk3p9VqeCLM4JsCfhDv1FoRAmTWgRdzY\n",
       "BJhwzi4CmAFt3BDq2a4pYg4ar8HXajJQWUC+t6X+BbhFY1NNJwB1Kz6CFXwg9EzLJjtvQwowQrAd\n",
       "IpTy0w6tq+ZUrELCjwoBZc728C1Hxz/0v/NsfDsQX8O5SEpdVxjFYkyJV5EUIakHfFwm5Qfgg1bU\n",
       "hBZke+96Y7okAyNi5CRmpvB9WYnFipPWMB6YowsHEXc158rk05LOFP/gY+VchVR8LTVCUJ8S1rMI\n",
       "/L8KuWzpTC24aIhrUgKEkHSeF3eX6LEbaaj20xWqQQhQYuRdxF6gdhVxM/qs1QP5+/1AZkIsmD5a\n",
       "jbQpSwF46mC7Meufy1q7DtLiBnwVHuW79b5e8SAUhMmmpJlM5L48WWvVbpMn92PcJYEoRAMCyefV\n",
       "p1Vek+qx0lEUzyv6JoYNOcPj4LKyj4oQPCB6NVjPhZsSQobA2U+Na7N3LTT87ngD8mv44Qr67WwV\n",
       "6srpbFgdxA4PF39Y69rTZK7hbSDZlEWvQbsPt9ZoKD/KrIJquEkpRoED1v0Hp/ikSH7NAn3kNYPN\n",
       "nJnp6Ta+f+DjEzH76GhVdMaGNXqQg8jYj9S5ayV13IoYctW32oj2vkIjLNWVr+LqkLdGMALKY0Ru\n",
       "lC14JhoTSEYvqjauKZMRbKqr0cCbEuZPxeUUMs5Pm/yfTj8nC6Mt0Km9ZdAN4dtyKKoSspfDLCmw\n",
       "rWf1PWjNGN+y+x2Yq7Ew4/bk1PNONlSV8MKOtNND1l/VmF26CHNzNt30aDj0OdgdDtF5IQd/hsdB\n",
       "cW5H2t+k79f/0xxHXPWdT/bpLyxUNmZGE+NB8Z9Tp/z1Rjh/x0FBRbYl0AQ1eI2+HXEsNGsExXym\n",
       "H1lgKkxBHwDtFqWWx0xGa4R+4mU+ZrJ6r/0DwNIxQ9dU20ddPR+gqx9RFhZHFmrNJQv/rdrbWmzP\n",
       "EoWk8B0tithdP6zNjPNiVRyGHtSCDHUCUZX7Aj13htqgoKiMzCh++3lX/K+jjapt8sNxyPXO2ciZ\n",
       "Svbm9RhRFxflDzkxorMiZ8v5agurjKCmMyn0dpdcvm8bY0EAAAFlQZ+ORREsN/8AD2KqjZD4Cg9Y\n",
       "ATpnatzGMDwkGcSnNi23T82BlYFPqojTq5pcZkiou59KUkrCujraVyMj0GGRYL/LHikwmnWHtsw0\n",
       "5A5qr6VwweOEyWawG9m7dbUWDJBugLs6W/r2hmIrrlj3M4wTb23kG3TsPlBajHuMW4ypwy3IVijF\n",
       "xQPxfasoop/jbOcKTSV6QrhFfqwqn56vaV4upIWhoft3LDXRNl3jDRF4R/RgicgJYdRB0G71IP6z\n",
       "+XwAXSCZZxJ90ki+u1skxrttNdbHOfLxxOI6PdvRa9QhRiHaVq/KTniJAX7j4u8v4ioyQSZJ9ZFv\n",
       "x1AkE2BuzkZzhSAj5xd94kvmiKDqLI/LU4V/ettkibQcfokYYcMiM6WKlmMTgNELRRX2tbJNVPQk\n",
       "wbGWcSr1wObjH8ZfaSJ15/fKMj1qUv7aTcuarMA2JDxiHt2QYEGIqZgGBNUv6cYTB+bR6/ltAAAB\n",
       "OAGfr2pDfwAPYqqNkPgWQyADaMcE7R6/tPKr29fqyw1IQY8563LClfYroxiYmj5CvP6jB2OqbhvQ\n",
       "xNTrsDIxOEst3q+MTXjJJfb5nwzvjPvu7mfJIPtaEgjpD226DLM7gPx36Y4su9IgD1O7+XW0d4bh\n",
       "0xA0wvEel+i+wb0Euh+rd1WyqZdnFjbxC+pRGhRDMkLaGwxUdXbAebEeJRToQk4nyaWrKdO9LgRD\n",
       "RjzjWcLdXkU9SI1MsnOGBvWgmN59TFxLcWfhEvP1jkNeCdxLI0rh6T9a44zWIGN13Q77E331OrSl\n",
       "zHJmQkhPUJBzM6/I3UJcvs4eUf1wzY16LfQ+JWnJxD+WJ8lTfarnxO81H7FlvlX3JP8KEL1F5hao\n",
       "FxIVcxL5H6vgAFtrhoXlQt7JkNo9tVgCardl3AAAA2hBm7JJqEFsmUwUTBH//rUqgAKlsXsF14QA\n",
       "psuovmHFiPx4xL3cIy3fxm79aQjnq/DuQ8twS7UYO1FMg1co04Tlmhy1XGb1gSGqbRNniJq72/w/\n",
       "M/P/yrZJQA7rx+/N+JEI6SFlk70OPpi/5i5+pitemp3zveGNDjWcW31/oW+Fz+lXCU4doZet70Q7\n",
       "VSCvxYwnC9dz/qWGL6OVoMlp1pBt7YjExDVKqkwlLmbf8nN2aRxQtIcRXca5ZYdOmVn0zKjKq9V5\n",
       "cSx61dAEisjGRBA/GYp/yMujjcrVwjm49Ke00lz7mTAT3OvRMpL9zm9C16sH8FbhljPi6sLXYfxy\n",
       "DfPXjDhO6eyRSL/sYf6j3NfiuOJIXdK/ZtZQ+O+kFE0Nc0cUKJFQUN6L7Jgnn5LETGUCa9erVpeO\n",
       "O2nd611hc0L9V9ul7mMWoxPhUIeVbLIRRcR9oEE5DAJDqbwLlTJ+q+iXQ5O89QmTyTeYjra5aWJK\n",
       "bRXOBio5d8Ei+mvHKxJ8GJr0R3SB2WsX/vd/JZLHVCWEBPe4Xdst17X/W2OZThRsxNYlO0jcY1nz\n",
       "1qWx/BEu4NgxeV4Y/vJN6pFCnZBBqg6WraeoC1uRJp4RAwrRAiWHDdpEjUSJhzIDLhSJk590epDJ\n",
       "35aYy67A2LhzwOGKM7xN4nZZVqOf9KLZnSZGwMciiokN3G/h07wOjwJvQ+bUOwB5Sa2Y8t5WGPnt\n",
       "aFVz3JW/h0D5KupTAiUjUiiHTxN85dw2w1JpD6E8aWA4HJ4w326WrcQdTV6+4tteIA5OEhJSk2B8\n",
       "3Kj95G00AetpEWODToYS89bHzXdKP/JD1nRnUneuG0pTvpy9IQ/kA3BALtJKwToZ87pjJX8cBpm4\n",
       "8ESwWbRwMB2hHfePU6VSI0YjLlMdTbhPLdRxUvQheDkPNWzNCCOf+kmK/SO/seV9iLbX4ULLBB4Q\n",
       "hmBKU8sjEHGH3J3BqjVNRxD1wsIxvdgppdI/N4frMX2Tvv1B5U/Gco9xxbWco+pOtA7qcNB0gcVX\n",
       "5TcEHisVsEKvqJv5IyRNYn14foAGxOcdWFVSGhdHsxSY2YZOaQsROb15YksreHIX4UEvRXBs2KzO\n",
       "8c7OWKKn/PDaeRYrDhoiXEeIRnfpuCCPN4Hbe2TDGwgzi9XCNt+1BsYtCh3iVGKG8AAAAP4Bn9Fq\n",
       "Q38AD2Kqj6woAQXvhLgNt1WCwDLfYK2qAVEVH+lh2HkRZItil8IIXnBrjDs1HgeM+jWPmGyYykjN\n",
       "CLNTT47jdkHF+HbdKEasrO8TCdcgKdShn+3iCtKsUROnBzyOUh0DWUGWvLOqN3wLdXFGzKJmYJJU\n",
       "FTAsxWqn+UyIVs8qTxdBpeOFNdjlBXsNl3eys4m/vtw3suGLZLaKA/mQGQt5lMKHz7M6goGDhymJ\n",
       "hrjGNCeAudeDFsRwg4EARk81WZSspahwa6/4FxA1tGGbjlJKmhvf/HntvWGljuRb8z7Q0JiXrDhO\n",
       "5yHp42fmZQD7LS3AtdDqyV/BcQAGpQAAA1lBm9ZJ4QpSZTAgj//+tSqAAqWxgr0l4AbYpEiCbvxv\n",
       "wE9Rrqom6C6ZVkrMEbw2scXjGXwx5UYRzGgGLhguijUodlBsIxlZfdWDWzQXtcEEUT7ln/vqfpE1\n",
       "vPpLIuKDN3fubvP/Y8U7HCn2LpvM/jWm1fK8jR0qCAOzFHkH7wGttzUhlLCO9UqWGt0C43EEH18L\n",
       "w8dR7dnmjPX/qH9Yr10wfPlGNCE6GqlCyVvfVp4ePat29bJa1yypAKNKPs0FhaxoM06VoyvAbNfV\n",
       "48/5jOGJqgVvx1zrnrEodH46LqM9uHPxvuDpk9DFQYu+GE+a6fHB29Xm+vBDm+8muISCHdsbWPLZ\n",
       "U/cT83nq5TN6z9ZFIe0OBKtiaNQzgJQnTSpJyLIspd2YddWL4QBYMpj7y5ZgdNuoHhoq2FMJmPia\n",
       "A2reBBO0dtiI8GMe38qhw/H5+I2XXzPyAimZEqTNNl3T/ycypP0pXS/CXH4PhOBh7KXgybsmtkaE\n",
       "Z4GC60ZfipRDYgLTJXnIdNPcYVKKCTqxKb5ZI468MkYIbUIkGK8ZEACqQ0AmKEZZa8VBC97lrPXT\n",
       "vad9WyyNgpB9ua7TAbSRB/xigh8C4nz3KwvDFtSYJzuX6uIrwleaJr4NxU3wflfe8U7R+9SOunre\n",
       "z0NnAWHGFrI/3qutHNLE0D6u1BTAtFpHtu+bau2LO5KQIp3AkEOv1IfD81QUtO2ajU9Rj66SpLW+\n",
       "mu5HLkKPN04pJMI/Yi2Itcz2XU+HXldUdm/UMXAm3tcJXkowcTTNC+nNrB4X0ZW66ufK160MTnMA\n",
       "s1h0pGoGeI4GyfGX43hqCUzzJECemPvnvJoQMtx3rZ/niz2hjZjKUAZIt3rrE1ZqKZkNmiOywEXw\n",
       "AEM94yCO6HQSGitFa92L/rKrqLxMJ6xOfNmNBkx3apbY2D4wlBjsK0+wtL50+PSqRK7/lDq3qrXy\n",
       "Cpo4Ipw4fp7Cssbj6qEi7UqmGeqtsVva0cqA+RQQ1Hh97NLsmNQ1zEZOyOt8O2J29uZOi5LTHmQS\n",
       "TeDL1F3XCbGUkVcAzuSbQZmS98zaYVGQaiZu0/khEh8DdIt0bCehahX32zuK3Bjw52L/0ufBGcdS\n",
       "KC3Buy2e3RBt/gl6UC8PAHOuRIvY8LfSyW//UgAAASpBn/RFNEw7/wAQ2ADOL5a65gAE5st5AazV\n",
       "EE1138sP9S12yZbbVF90lX+4uHxRMi1l2Bfv+zFI7stzvxCoxkqchHzLsX3qi1WE84Zr/RAsOTo7\n",
       "nFlzGpyFcPMYTa5eWj+YzZKkufKGzm1hqHGxhS9OZlf7JTIWB6lVBCmaQVBqDJt/DKSULcuzhkvH\n",
       "FZjt8sNKTlwJ3iGQuDoC1H9K6u4WMJvX/tEK8cNkydV/q/ZOOM0MEkNdrrO/s+NE7kuwQkRKnSPG\n",
       "VkzaNLDXFflJukTJ/kbKOucjHQk5weK7WiOvIuPpFAR4qPQf81lMA6LU1VzVwGLcQjfXHSjU0xHB\n",
       "L/Dw0ifKfbgR6RL0H2LlbeSHcEoY0M03sDdzdWfhwc+jn+GRfhk7imLDJAdMAAAAvAGeE3RDfwAY\n",
       "Pu5tPK90muR0oAP0Q/iwfChf4a3lXF5v0Yjca72r2mGiXxD+ZJ4I6sILG/1wTvEBaH3uD+e00brf\n",
       "c2d7KryhwuCOBts+CdGwSXyfY6UzGpvrDIYmjNNo9oANAacQGK30niudVXvgZ1pZL8E8UX5Pr9h7\n",
       "f+8m/6tHW/bT1l9y8wacHQc341hz6KYewsE5gTm05PUTHWQ//OkC4eHrM2diU/0vUFoSoZF9vS/I\n",
       "dlBb+uKYAAi5AAAAfAGeFWpDfwAYPu5tPK9pQCUP9KObS22AAhKrNek1oqw81mPxAZUNdAS+k4me\n",
       "GHXNtji/WNEMz4+VwEaqYpE9bX12x32iHvue6nsABjqUQqj+afsLYMHQlnwdbmts2n0AnVy/cJw4\n",
       "mep3tYlQ4XGHO1jMu0w37HL5FRAAHBAAAAGiQZoYSahBaJlMFPBH//61KoACp6WUQAQmzJn1w2+h\n",
       "iZPexcNDfW/rWWt+Tqpow4r3EM7NQrCxLU7YGvHPPk5fLB/eyaaJ3/n/8/b7vWizoFZXHz6O88nJ\n",
       "uzfv1Dq90B8eDwxkiT3coXWSnZO4hgQv25uajmNXIMX7kpaqxIEli8DPw5UQGPK/lFdP80Fl+5qv\n",
       "3z+4v2g8UvuiJTJnw/RnhjWQksy9yerHa3Mkga/XdYv9pIAxCwmLuTZg95JlOD4aP9os6yZwPoEh\n",
       "CPetW3ErFhRwT1k9vbTnPtIGqjBH8VdTy4nunTRp8AMvilj/jdveQQRFc+ru6dLsPQNJ3mNe1E/s\n",
       "tJIy7Zn5PdJPXRmPngscugAQLdAAu6FS1fupVbQNwof6Ji+gp2g27XrQ8nYgDd4Ing3PMGZ0a7TD\n",
       "aOEcyhgI9V8mkhik5Ey45Q85I3y50eWbgmWMz0PHmQY25k0u2NYAEUGh3h2wWwe0GJ22iXcngAT8\n",
       "redbMLsQfTsmSO8WalPlvb8Y2oxUg21X6n87SJe9aDh+bgu1Vl4P1xAcFSgBNwAAADkBnjdqQ38A\n",
       "D2KqeE8XAO1Teyl/bPmwB76daPugoA983MnLNUIevR1f5zGTmIY/kUTAvFj8PlmAAaEAAAHHQZo8\n",
       "SeEKUmUwII///rUqgAK4VDBgBGKSsEwEn3IEOUu5HjiFzdad4RE6JNsQgPueFCS9ln149bP0NB6G\n",
       "sgAqLVmhgRI+nKSnkGAchuSetbxPvwUvHcf1uNIODncu5bYxXajCDJ+tVYhrrg+uj4yPqp7kUeuI\n",
       "FnfqPjo3BZwbk47Ub+oiupiYohlcFofOs67K/IzgDWTSP+LFJbh5OK5BeMUea8U/LnMBDemuwS0K\n",
       "0opvubSLP+0lEFNE2hoT0HGBESN9kBXfnTw2H2HEv/dC5OOJIH0M6hWZbpgGpE5E+bLhYPWOurU1\n",
       "2YuxcFEFDxGgnrmUmkKhqPaXj2Z1C+OckTOd6c577ehOBPTEBDAfeRPPipjkC9gimNcMPHC16PcN\n",
       "WPpkc2QHAvIgJpVd3DeYXe+z2bMQQg2F0LlPl5NikLQJ1BYwmxQyE+WPgZaFlSv3JfX6OpGkt/ve\n",
       "rJmBfDHn1T5c5K45r/TKc74Gh2z07/jVJhY5mPLBd1D4kkBgOyqaRlVTO1eV4aaBmdWWctb+XLUF\n",
       "ghEVgDUKw7GAvqYYujkbfaulZnFZM4/ji2A0nCMUobc5DXpWq62BrjPsu+mkfzlXvVsADagAAABQ\n",
       "QZ5aRTRMO/8AENgAzi+V7xXZfJvZ3Lau0u6ACYe/OMsKDqHA16lU47QapccDWggoV6cjHQyNNmsQ\n",
       "YPdnj/YIVrC2vf2aEjvz1Y2dr8IABbUAAAAkAZ55dEN/ABh+sXBHr2u0Ti9ybQAQ+0RvGwKM1Cmo\n",
       "r5aAAGZAAAAAHgGee2pDfwAYgu1CQqrxHEfNskdqIQnW+IDyzQAC2wAAASdBmmBJqEFomUwIIf/+\n",
       "qlUABW/QSAARKj5KZjewT3BDbbvj4/Ry+2afLMQ5wnid3bQCCjZ+Z4ROs4qrTcOsvMplidOhtgt2\n",
       "2nf7Y6D32fUz8qBHl2A/8uafom47+HAxsEmYSsj0wQ2TzHwqzOF0qVz3guo+caB3N2q7c9Bp4brD\n",
       "ToIqdqr0SczRaxvX75SCrygf/Z3QKdSAMHWO81fgZZ9NyAbU3/d+ZWWAglj+E6ufGLxjdm2a9A21\n",
       "fwC1f7A0CHgRqJnkH+EQ4Ajb8QvdezA+YL46kmoXjjyC92sQHeJ3y8jvh4STrNHstV5yuXGO0/LH\n",
       "+60aLcJwGSf0Pj9/iAMdfk8zi123E4b8OUpW7GlJqbtYjki2KppwgQ/ZAIrWpLApvs4AAJeBAAAA\n",
       "LkGenkURLDv/ABEKVHIiwpxHhD/tCC4tWKHZbm2qcfGUu+ovpjBCwDhi/qAAIeAAAAAXAZ69dEN/\n",
       "ABh+sXBGhy4JxdpgMNAAI2AAAAAcAZ6/akN/ABiC7UJDDR3fOESKGMA0nDtTgACDgQAAAGNBmqRJ\n",
       "qEFsmUwIf//+qZYACk123lGADdENbzod7maMcEvF1Ko6bNqs5ocRut416k4OClI5H/3gR5VCE++I\n",
       "O9xwcmAgwlW3sRMjRPgVIhYO2Q/wA+hOnry9nTrZPA4fc6AA9oAAAAAoQZ7CRRUsO/8AEQpUciK1\n",
       "yYHDD/fS2XDnjoofxkCIOFr1gpKMhIABbQAAABkBnuF0Q38AGH6xcEaHLgnF4yIFzrAAAO6AAAAA\n",
       "GQGe42pDfwAYgu1CQfZGpuQ9/pJ0ogAApIEAAAAbQZrnSahBbJlMCG///qeEAAVAFEFNhDuwAB3R\n",
       "AAAAJkGfBUUVLDf/ABiFNeyAxSs8jjKTIf3W4hjXxAFOm8+KVStLEAPnAAAAFQGfJmpDfwAYgu1C\n",
       "QfZGpZxaq0gEzQAABMdtb292AAAAbG12aGQAAAAAAAAAAAAAAAAAAAPoAAAPoAABAAABAAAAAAAA\n",
       "AAAAAAAAAQAAAAAAAAAAAAAAAAAAAAEAAAAAAAAAAAAAAAAAAEAAAAAAAAAAAAAAAAAAAAAAAAAA\n",
       "AAAAAAAAAAAAAAACAAAD8XRyYWsAAABcdGtoZAAAAAMAAAAAAAAAAAAAAAEAAAAAAAAPoAAAAAAA\n",
       "AAAAAAAAAAAAAAAAAQAAAAAAAAAAAAAAAAAAAAEAAAAAAAAAAAAAAAAAAEAAAAAB9AAAAZAAAAAA\n",
       "ACRlZHRzAAAAHGVsc3QAAAAAAAAAAQAAD6AAAAgAAAEAAAAAA2ltZGlhAAAAIG1kaGQAAAAAAAAA\n",
       "AAAAAAAAACgAAACgAFXEAAAAAAAtaGRscgAAAAAAAAAAdmlkZQAAAAAAAAAAAAAAAFZpZGVvSGFu\n",
       "ZGxlcgAAAAMUbWluZgAAABR2bWhkAAAAAQAAAAAAAAAAAAAAJGRpbmYAAAAcZHJlZgAAAAAAAAAB\n",
       "AAAADHVybCAAAAABAAAC1HN0YmwAAAC0c3RzZAAAAAAAAAABAAAApGF2YzEAAAAAAAAAAQAAAAAA\n",
       "AAAAAAAAAAAAAAAB9AGQAEgAAABIAAAAAAAAAAEAAAAAAAAAAAAAAAAAAAAAAAAAAAAAAAAAAAAA\n",
       "AAAAAAAY//8AAAAyYXZjQwFkABb/4QAZZ2QAFqzZQIAz5+EAAAMAAQAAAwAUDxYtlgEABmjr48si\n",
       "wAAAABx1dWlka2hA8l8kT8W6OaUbzwMj8wAAAAAAAAAYc3R0cwAAAAAAAAABAAAAKAAABAAAAAAU\n",
       "c3RzcwAAAAAAAAABAAAAAQAAAQhjdHRzAAAAAAAAAB8AAAAIAAAIAAAAAAEAAAwAAAAAAQAABAAA\n",
       "AAABAAAUAAAAAAEAAAgAAAAAAQAAAAAAAAABAAAEAAAAAAEAABAAAAAAAgAABAAAAAABAAAMAAAA\n",
       "AAEAAAQAAAAAAQAAFAAAAAABAAAIAAAAAAEAAAAAAAAAAQAABAAAAAABAAAMAAAAAAEAAAQAAAAA\n",
       "AQAAFAAAAAABAAAIAAAAAAEAAAAAAAAAAQAABAAAAAABAAAUAAAAAAEAAAgAAAAAAQAAAAAAAAAB\n",
       "AAAEAAAAAAEAABQAAAAAAQAACAAAAAABAAAAAAAAAAEAAAQAAAAAAQAAEAAAAAACAAAEAAAAABxz\n",
       "dHNjAAAAAAAAAAEAAAABAAAAKAAAAAEAAAC0c3RzegAAAAAAAAAAAAAAKAAAFbEAAAJ4AAADbwAA\n",
       "BIsAAAJkAAAC2AAAAfgAAAHjAAACYgAAAMYAAATFAAAC0AAAATsAAAIAAAAEcQAAAWkAAAE8AAAD\n",
       "bAAAAQIAAANdAAABLgAAAMAAAACAAAABpgAAAD0AAAHLAAAAVAAAACgAAAAiAAABKwAAADIAAAAb\n",
       "AAAAIAAAAGcAAAAsAAAAHQAAAB0AAAAfAAAAKgAAABkAAAAUc3RjbwAAAAAAAAABAAAALAAAAGJ1\n",
       "ZHRhAAAAWm1ldGEAAAAAAAAAIWhkbHIAAAAAAAAAAG1kaXJhcHBsAAAAAAAAAAAAAAAALWlsc3QA\n",
       "AAAlqXRvbwAAAB1kYXRhAAAAAQAAAABMYXZmNTcuNTYuMTAx\n",
       "\">\n",
       "  Your browser does not support the video tag.\n",
       "</video>"
      ],
      "text/plain": [
       "<matplotlib.animation.FuncAnimation at 0x7f981fe6d250>"
      ]
     },
     "execution_count": 12,
     "metadata": {},
     "output_type": "execute_result"
    }
   ],
   "source": [
    "fig = plt.figure(dpi=100, figsize=(5, 4))\n",
    "plt.scatter(x,y)\n",
    "line, = plt.plot(x,lin(a_guess,b_guess,x))\n",
    "plt.close()\n",
    "\n",
    "def animate(i):\n",
    "    line.set_ydata(lin(a_guess,b_guess,x))\n",
    "    for i in range(10): upd()\n",
    "    return line,\n",
    "\n",
    "ani = animation.FuncAnimation(fig, animate, np.arange(0, 40), interval=100)\n",
    "ani"
   ]
  },
  {
   "cell_type": "code",
   "execution_count": null,
   "metadata": {
    "collapsed": true
   },
   "outputs": [],
   "source": []
  }
 ],
 "metadata": {
  "kernelspec": {
   "display_name": "Python [default]",
   "language": "python",
   "name": "python2"
  },
  "language_info": {
   "codemirror_mode": {
    "name": "ipython",
    "version": 2
   },
   "file_extension": ".py",
   "mimetype": "text/x-python",
   "name": "python",
   "nbconvert_exporter": "python",
   "pygments_lexer": "ipython2",
   "version": "2.7.13"
  },
  "nav_menu": {},
  "toc": {
   "navigate_menu": true,
   "number_sections": true,
   "sideBar": true,
   "threshold": 6,
   "toc_cell": true,
   "toc_section_display": "block",
   "toc_window_display": false
  },
  "widgets": {
   "state": {},
   "version": "1.1.2"
  }
 },
 "nbformat": 4,
 "nbformat_minor": 1
}
